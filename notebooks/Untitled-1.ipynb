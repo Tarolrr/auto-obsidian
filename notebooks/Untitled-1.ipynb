{
 "cells": [
  {
   "cell_type": "code",
   "execution_count": 6,
   "metadata": {},
   "outputs": [
    {
     "name": "stderr",
     "output_type": "stream",
     "text": [
      "Cloning into '/tmp/tmp.fia60SFGFs/obsidian-smart-connections'...\n",
      "Cloning into '/tmp/tmp.fia60SFGFs/chatgpt-md'...\n"
     ]
    },
    {
     "name": "stdout",
     "output_type": "stream",
     "text": [
      "Markdown files have been copied to doc_data/[repo_name]\n"
     ]
    }
   ],
   "source": [
    "%%bash\n",
    "# Define the list of repository URLs to clone\n",
    "declare -a repos=(\n",
    "    \"https://github.com/brianpetro/obsidian-smart-connections.git\"\n",
    "    \"https://github.com/bramses/chatgpt-md.git\"\n",
    "    # Add more repository URLs as needed\n",
    ")\n",
    "\n",
    "# Create a temporary directory for cloning\n",
    "temp_dir=$(mktemp -d)\n",
    "\n",
    "# Directory to store markdown files\n",
    "doc_data_dir=\"doc_data\"\n",
    "\n",
    "# Clone each repository and copy markdown files from the root\n",
    "for repo in \"${repos[@]}\"; do\n",
    "    # Extract the repo name from the URL\n",
    "    repo_name=$(basename -s .git $repo)\n",
    "    \n",
    "     # Create a new directory for this repo inside doc_data_dir\n",
    "     mkdir -p $doc_data_dir/$repo_name\n",
    "    \n",
    "    # Clone the repository into the temp directory\n",
    "    git clone $repo $temp_dir/$repo_name\n",
    "    \n",
    "    # Copy markdown files from the cloned repository's root to the new directory in doc_data_dir\n",
    "    find $temp_dir/$repo_name -maxdepth 1 -name '*.md' -exec cp {} $doc_data_dir/$repo_name \\;\n",
    "done\n",
    "\n",
    "# Remove the temporary directory\n",
    "rm -rf $temp_dir\n",
    "\n",
    "# Output the result\n",
    "echo \"Markdown files have been copied to $doc_data_dir/[repo_name]\""
   ]
  },
  {
   "cell_type": "code",
   "execution_count": null,
   "metadata": {},
   "outputs": [],
   "source": []
  }
 ],
 "metadata": {
  "kernelspec": {
   "display_name": "Python 3 (ipykernel)",
   "language": "python",
   "name": "python3"
  },
  "language_info": {
   "codemirror_mode": {
    "name": "ipython",
    "version": 3
   },
   "file_extension": ".py",
   "mimetype": "text/x-python",
   "name": "python",
   "nbconvert_exporter": "python",
   "pygments_lexer": "ipython3",
   "version": "3.11.6"
  }
 },
 "nbformat": 4,
 "nbformat_minor": 4
}
